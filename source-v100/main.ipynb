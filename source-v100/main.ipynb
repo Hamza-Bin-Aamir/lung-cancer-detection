{
 "cells": [
  {
   "cell_type": "markdown",
   "metadata": {},
   "source": [
    "# Project MGS (Medical Graphing Study)\n",
    "\n",
    "This is the first version of project MGS."
   ]
  },
  {
   "cell_type": "code",
   "execution_count": 47,
   "metadata": {},
   "outputs": [
    {
     "name": "stdout",
     "output_type": "stream",
     "text": [
      "Requirement already satisfied: numpy in c:\\users\\hp\\appdata\\local\\programs\\python\\python312\\lib\\site-packages (1.26.2)\n",
      "Note: you may need to restart the kernel to use updated packages.\n",
      "numpy version:  1.26.2\n",
      "Requirement already satisfied: opencv-python in c:\\users\\hp\\appdata\\local\\programs\\python\\python312\\lib\\site-packages (4.9.0.80)\n",
      "Requirement already satisfied: numpy>=1.21.2 in c:\\users\\hp\\appdata\\local\\programs\\python\\python312\\lib\\site-packages (from opencv-python) (1.26.2)\n",
      "Note: you may need to restart the kernel to use updated packages.\n",
      "OpenCV version:  4.9.0\n",
      "Requirement already satisfied: pandas in c:\\users\\hp\\appdata\\local\\programs\\python\\python312\\lib\\site-packages (2.1.4)Note: you may need to restart the kernel to use updated packages.\n",
      "Pandas version:  2.1.4\n",
      "^^^^^^^^^^^^^^^^^^^^^^^^^^^^^^^^^^^^^^^^^^^^^^^^^^^^\n",
      "Please check if this CUDA is available unless your device does not support CUDA\n",
      "Uncommect the command to install GPU if your device does support CUDA\n",
      "\n",
      "Requirement already satisfied: numpy<2,>=1.26.0 in c:\\users\\hp\\appdata\\local\\programs\\python\\python312\\lib\\site-packages (from pandas) (1.26.2)\n",
      "Requirement already satisfied: python-dateutil>=2.8.2 in c:\\users\\hp\\appdata\\roaming\\python\\python312\\site-packages (from pandas) (2.9.0.post0)\n",
      "Requirement already satisfied: pytz>=2020.1 in c:\\users\\hp\\appdata\\local\\programs\\python\\python312\\lib\\site-packages (from pandas) (2023.3.post1)\n",
      "Requirement already satisfied: tzdata>=2022.1 in c:\\users\\hp\\appdata\\local\\programs\\python\\python312\\lib\\site-packages (from pandas) (2023.3)\n",
      "Requirement already satisfied: six>=1.5 in c:\\users\\hp\\appdata\\roaming\\python\\python312\\site-packages (from python-dateutil>=2.8.2->pandas) (1.16.0)\n",
      "Requirement already satisfied: pydicom in c:\\users\\hp\\appdata\\local\\programs\\python\\python312\\lib\\site-packages (2.4.4)\n",
      "Note: you may need to restart the kernel to use updated packages.\n",
      "DICOM Version:  2.4.4\n"
     ]
    }
   ],
   "source": [
    "# numerical python library needed for mathematical operations\n",
    "%pip install numpy \t\t\t\n",
    "import numpy as NumPy\n",
    "print(\"numpy version: \", NumPy.__version__)\n",
    "# this library is useful for processing images\n",
    "%pip install opencv-python \t\n",
    "import cv2 as OpenCV\n",
    "print(\"OpenCV version: \", OpenCV.__version__)\n",
    "# we will be storing our data in a dataframe\n",
    "%pip install pandas \t\n",
    "import pandas as Pandas\n",
    "print(\"Pandas version: \", Pandas.__version__)\n",
    "\n",
    "import os # useful for file handling operations\n",
    "# pyTorch is a common library for creating neural networks and AI applications \t\n",
    "#%pip install torch\t\t\n",
    "# pyTorch dependency\t\n",
    "#%pip install torchvision \t\n",
    "# pyTorch dependency\t\n",
    "#%pip install torchaudio\n",
    "\n",
    "#import torch as PyTorch\n",
    "#import torchaudio as PyTorchAudio\n",
    "#import torchvision as PyTorchVision\n",
    "\n",
    "\n",
    "# This command installs the GPU version of PyTorch\n",
    "# %pip install torch torchvision torchaudio --index-url https://download.pytorch.org/whl/cu118\n",
    "\n",
    "#print(\"PyTorch version: \", PyTorch.__version__)\n",
    "#print(\"CUDA Available: \", PyTorch.cuda.is_available())\n",
    "print(\"^^^^^^^^^^^^^^^^^^^^^^^^^^^^^^^^^^^^^^^^^^^^^^^^^^^^\")\n",
    "print(\"Please check if this CUDA is available unless your device does not support CUDA\")\n",
    "print(\"Uncommect the command to install GPU if your device does support CUDA\")\n",
    "\n",
    "# The images we receive are in DICOM format, therefore, we use pyDICOM\n",
    "%pip install pydicom\n",
    "\n",
    "import pydicom as DICOM\n",
    "print(\"DICOM Version: \", DICOM.__version__)\n",
    "\n",
    "\n"
   ]
  },
  {
   "cell_type": "markdown",
   "metadata": {},
   "source": [
    "# Citations"
   ]
  },
  {
   "cell_type": "markdown",
   "metadata": {},
   "source": [
    "## DICOM to Numpy Array \n",
    "By Esa Anjum (https://stackoverflow.com/a/74886257)"
   ]
  },
  {
   "cell_type": "code",
   "execution_count": 48,
   "metadata": {},
   "outputs": [],
   "source": [
    "def dicom_to_numpy(ds):\n",
    "    DCM_Img = ds\n",
    "    rows = DCM_Img.get(0x00280010).value #Get number of rows from tag (0028, 0010)\n",
    "    cols = DCM_Img.get(0x00280011).value #Get number of cols from tag (0028, 0011)\n",
    "    \n",
    "    Instance_Number = int(DCM_Img.get(0x00200013).value) #Get actual slice instance number from tag (0020, 0013)\n",
    "\n",
    "    Window_Center = 0\n",
    "\n",
    "    Window_Center = int(DCM_Img.get(0x00281050).value) #Get window center from tag (0028, 1050)\n",
    "    \n",
    "    Window_Width = int(DCM_Img.get(0x00281051).value) #Get window width from tag (0028, 1051)\n",
    "\n",
    "    Window_Max = int(Window_Center + Window_Width / 2)\n",
    "    Window_Min = int(Window_Center - Window_Width / 2)\n",
    "\n",
    "\n",
    "    if (DCM_Img.get(0x00281052) is None):\n",
    "        Rescale_Intercept = 0\n",
    "    else:\n",
    "        Rescale_Intercept = int(DCM_Img.get(0x00281052).value)\n",
    "\n",
    "    if (DCM_Img.get(0x00281053) is None):\n",
    "        Rescale_Slope = 1\n",
    "    else:\n",
    "        Rescale_Slope = int(DCM_Img.get(0x00281053).value)\n",
    "\n",
    "    New_Img = NumPy.zeros((rows, cols), NumPy.uint8)\n",
    "    Pixels = DCM_Img.pixel_array\n",
    "\n",
    "    for i in range(0, rows):\n",
    "        for j in range(0, cols):\n",
    "            Pix_Val = Pixels[i][j]\n",
    "            Rescale_Pix_Val = Pix_Val * Rescale_Slope + Rescale_Intercept\n",
    "\n",
    "            if (Rescale_Pix_Val > Window_Max): #if intensity is greater than max window\n",
    "                New_Img[i][j] = 255\n",
    "            elif (Rescale_Pix_Val < Window_Min): #if intensity is less than min window\n",
    "                New_Img[i][j] = 0\n",
    "            else:\n",
    "                New_Img[i][j] = int(((Rescale_Pix_Val - Window_Min) / (Window_Max - Window_Min)) * 255) #Normalize the intensities\n",
    "                \n",
    "    return New_Img"
   ]
  },
  {
   "cell_type": "markdown",
   "metadata": {},
   "source": [
    "# Step One: Image Acquisition\n",
    "\n",
    "We are primarily using the [Cancer Imaging Archive (LIDC-IDRI) Dataset](https://www.cancerimagingarchive.net/collection/lidc-idri/) for our project. This dataset provides the following information that we will be using for the project: \n",
    "1. Images\n",
    "2. Metadata\n",
    "3. Nodule Counts\n",
    "4. Patient Diagnoses\n",
    "\n",
    "## Data Acquisition and Usage\n",
    "1. Load list of patients -> ```Patients: Dataframe```\n",
    "2. Load patient diagnoses -> ```Patients: Dataframe```\n",
    "3. Load images from top -> ```Patients: Dataframe``` (Location of Top Views in ```TopImages```) and ```TopImages: List of NumPy Arrays```\n",
    "4. Load images from side -> ```Patients: Dataframe``` (Location of Side Views in ```SideImages```) and ```SideImages: List of NumPy Arrays```\n",
    "5. Load images from front -> ```Patients: Dataframe``` (Location of Front Views in ```FrontImages```) and ```FrontImages: List of NumPy Arrays```\n",
    "6. Metadata -> ```Patients: Dataframe```"
   ]
  },
  {
   "cell_type": "markdown",
   "metadata": {},
   "source": [
    "## Image Acquisition Functions"
   ]
  },
  {
   "cell_type": "code",
   "execution_count": 49,
   "metadata": {},
   "outputs": [],
   "source": [
    "def LoadImage(Location:os.path, Show:bool = False) -> OpenCV.Mat:\n",
    "\tImage = DICOM.dcmread(Location)\n",
    "\tImage = dicom_to_numpy(Image)\n",
    "\n",
    "\tif Show:\n",
    "\t\tOpenCV.imshow('Loaded Image', Image)\n",
    "\t\tOpenCV.waitKey(0)\n",
    "\n",
    "\treturn OpenCV.Mat(Image)"
   ]
  },
  {
   "cell_type": "markdown",
   "metadata": {},
   "source": [
    "## Implementation "
   ]
  },
  {
   "cell_type": "code",
   "execution_count": 69,
   "metadata": {},
   "outputs": [
    {
     "ename": "TypeError",
     "evalue": "int() argument must be a string, a bytes-like object or a real number, not 'MultiValue'",
     "output_type": "error",
     "traceback": [
      "\u001b[1;31m---------------------------------------------------------------------------\u001b[0m",
      "\u001b[1;31mTypeError\u001b[0m                                 Traceback (most recent call last)",
      "Cell \u001b[1;32mIn[69], line 37\u001b[0m\n\u001b[0;32m     34\u001b[0m Images \u001b[38;5;241m=\u001b[39m []\n\u001b[0;32m     36\u001b[0m \u001b[38;5;28;01mfor\u001b[39;00m file \u001b[38;5;129;01min\u001b[39;00m files:\n\u001b[1;32m---> 37\u001b[0m \tImages\u001b[38;5;241m.\u001b[39mappend(\u001b[43mLoadImage\u001b[49m\u001b[43m(\u001b[49m\u001b[43mfile\u001b[49m\u001b[43m)\u001b[49m)\n",
      "Cell \u001b[1;32mIn[49], line 3\u001b[0m, in \u001b[0;36mLoadImage\u001b[1;34m(Location, Show)\u001b[0m\n\u001b[0;32m      1\u001b[0m \u001b[38;5;28;01mdef\u001b[39;00m \u001b[38;5;21mLoadImage\u001b[39m(Location:os\u001b[38;5;241m.\u001b[39mpath, Show:\u001b[38;5;28mbool\u001b[39m \u001b[38;5;241m=\u001b[39m \u001b[38;5;28;01mFalse\u001b[39;00m) \u001b[38;5;241m-\u001b[39m\u001b[38;5;241m>\u001b[39m OpenCV\u001b[38;5;241m.\u001b[39mMat:\n\u001b[0;32m      2\u001b[0m \tImage \u001b[38;5;241m=\u001b[39m DICOM\u001b[38;5;241m.\u001b[39mdcmread(Location)\n\u001b[1;32m----> 3\u001b[0m \tImage \u001b[38;5;241m=\u001b[39m \u001b[43mdicom_to_numpy\u001b[49m\u001b[43m(\u001b[49m\u001b[43mImage\u001b[49m\u001b[43m)\u001b[49m\n\u001b[0;32m      5\u001b[0m \t\u001b[38;5;28;01mif\u001b[39;00m Show:\n\u001b[0;32m      6\u001b[0m \t\tOpenCV\u001b[38;5;241m.\u001b[39mimshow(\u001b[38;5;124m'\u001b[39m\u001b[38;5;124mLoaded Image\u001b[39m\u001b[38;5;124m'\u001b[39m, Image)\n",
      "Cell \u001b[1;32mIn[48], line 10\u001b[0m, in \u001b[0;36mdicom_to_numpy\u001b[1;34m(ds)\u001b[0m\n\u001b[0;32m      6\u001b[0m Instance_Number \u001b[38;5;241m=\u001b[39m \u001b[38;5;28mint\u001b[39m(DCM_Img\u001b[38;5;241m.\u001b[39mget(\u001b[38;5;241m0x00200013\u001b[39m)\u001b[38;5;241m.\u001b[39mvalue) \u001b[38;5;66;03m#Get actual slice instance number from tag (0020, 0013)\u001b[39;00m\n\u001b[0;32m      8\u001b[0m Window_Center \u001b[38;5;241m=\u001b[39m \u001b[38;5;241m0\u001b[39m\n\u001b[1;32m---> 10\u001b[0m Window_Center \u001b[38;5;241m=\u001b[39m \u001b[38;5;28;43mint\u001b[39;49m\u001b[43m(\u001b[49m\u001b[43mDCM_Img\u001b[49m\u001b[38;5;241;43m.\u001b[39;49m\u001b[43mget\u001b[49m\u001b[43m(\u001b[49m\u001b[38;5;241;43m0x00281050\u001b[39;49m\u001b[43m)\u001b[49m\u001b[38;5;241;43m.\u001b[39;49m\u001b[43mvalue\u001b[49m\u001b[43m)\u001b[49m \u001b[38;5;66;03m#Get window center from tag (0028, 1050)\u001b[39;00m\n\u001b[0;32m     12\u001b[0m Window_Width \u001b[38;5;241m=\u001b[39m \u001b[38;5;28mint\u001b[39m(DCM_Img\u001b[38;5;241m.\u001b[39mget(\u001b[38;5;241m0x00281051\u001b[39m)\u001b[38;5;241m.\u001b[39mvalue) \u001b[38;5;66;03m#Get window width from tag (0028, 1051)\u001b[39;00m\n\u001b[0;32m     14\u001b[0m Window_Max \u001b[38;5;241m=\u001b[39m \u001b[38;5;28mint\u001b[39m(Window_Center \u001b[38;5;241m+\u001b[39m Window_Width \u001b[38;5;241m/\u001b[39m \u001b[38;5;241m2\u001b[39m)\n",
      "\u001b[1;31mTypeError\u001b[0m: int() argument must be a string, a bytes-like object or a real number, not 'MultiValue'"
     ]
    }
   ],
   "source": [
    "# add directories to all files in a 'files' list\n",
    "directories = []\n",
    "location = './LIDC-IDRI'\n",
    "for item in os.listdir(location):\n",
    "\titem_path = os.path.join(location, item)\n",
    "\tif os.path.isdir(item_path):\n",
    "\t\tdirectories.append(item_path)\n",
    "\n",
    "newdirs = []\n",
    "for dir in directories:\n",
    "\tfor item in os.listdir(dir):\n",
    "\t\titem_path = os.path.join(dir, item)\n",
    "\t\tif os.path.isdir(item_path):\n",
    "\t\t\tnewdirs.append(item_path)\n",
    "\n",
    "filedir = []\n",
    "for dir in newdirs:\n",
    "\tfor item in os.listdir(dir):\n",
    "\t\titem_path = os.path.join(dir, item)\n",
    "\t\tif os.path.isdir(item_path):\n",
    "\t\t\tfiledir.append(item_path)\n",
    "\n",
    "files = []\n",
    "for dir in filedir:\n",
    "\tfor item in os.listdir(dir):\n",
    "\t\titem_path = os.path.join(dir, item)\n",
    "\t\tif not os.path.isdir(item_path):\n",
    "\t\t\t_, file_extension = os.path.splitext(item_path)\n",
    "\t\t\t#print(file_extension)\n",
    "\t\t\tif not file_extension == '.xml':\n",
    "\t\t\t\tfiles.append(item_path)\n",
    "\n",
    "# Load the data\n",
    "# Dataset = \n",
    "Images = []\n",
    "\n",
    "for file in files:\n",
    "\tImages.append(LoadImage(file))\n",
    "\n",
    "\n"
   ]
  }
 ],
 "metadata": {
  "kernelspec": {
   "display_name": "Python 3",
   "language": "python",
   "name": "python3"
  },
  "language_info": {
   "codemirror_mode": {
    "name": "ipython",
    "version": 3
   },
   "file_extension": ".py",
   "mimetype": "text/x-python",
   "name": "python",
   "nbconvert_exporter": "python",
   "pygments_lexer": "ipython3",
   "version": "3.12.0"
  }
 },
 "nbformat": 4,
 "nbformat_minor": 2
}
